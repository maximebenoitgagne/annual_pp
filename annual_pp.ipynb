{
 "cells": [
  {
   "cell_type": "markdown",
   "metadata": {},
   "source": [
    "# Annual primary productivity from latitude, longitude and year"
   ]
  },
  {
   "cell_type": "code",
   "execution_count": 1,
   "metadata": {},
   "outputs": [],
   "source": [
    "lat=71\n",
    "lon=-125\n",
    "year=2009"
   ]
  },
  {
   "cell_type": "markdown",
   "metadata": {},
   "source": [
    "lat=-90+180/1080/2+(1079-fakeDim0)*180/1080"
   ]
  },
  {
   "cell_type": "code",
   "execution_count": 2,
   "metadata": {},
   "outputs": [
    {
     "name": "stdout",
     "output_type": "stream",
     "text": [
      "114\n"
     ]
    }
   ],
   "source": [
    "fakeDim0=-(lat+90-180/1080/2)/180*1080+1079\n",
    "fakeDim0=round(fakeDim0)\n",
    "print(fakeDim0)"
   ]
  },
  {
   "cell_type": "markdown",
   "metadata": {},
   "source": [
    "lon=-180+360/2160/2+360/2160*fakeDim1"
   ]
  },
  {
   "cell_type": "code",
   "execution_count": 3,
   "metadata": {},
   "outputs": [
    {
     "name": "stdout",
     "output_type": "stream",
     "text": [
      "330\n"
     ]
    }
   ],
   "source": [
    "fakeDim1=(lon+180-360/2160/2)/360*2160\n",
    "fakeDim1=round(fakeDim1)\n",
    "print(fakeDim1)"
   ]
  },
  {
   "cell_type": "code",
   "execution_count": 4,
   "metadata": {},
   "outputs": [
    {
     "data": {
      "text/plain": [
       "'vgpm.m.2009 (1).tar'"
      ]
     },
     "execution_count": 4,
     "metadata": {},
     "output_type": "execute_result"
    }
   ],
   "source": [
    "import wget\n",
    "\n",
    "url='http://orca.science.oregonstate.edu/data/1x2/monthly/vgpm.r2018.m.chl.m.sst/hdf/vgpm.m.'+str(year)+'.tar'\n",
    "wget.download(url)"
   ]
  },
  {
   "cell_type": "markdown",
   "metadata": {},
   "source": [
    "See https://docs.python.org/3.6/library/tarfile.html"
   ]
  },
  {
   "cell_type": "code",
   "execution_count": 5,
   "metadata": {},
   "outputs": [
    {
     "name": "stdout",
     "output_type": "stream",
     "text": [
      "archive_name: vgpm.m.2009.tar\n"
     ]
    }
   ],
   "source": [
    "import os.path\n",
    "import tarfile\n",
    "\n",
    "archive_name=os.path.basename(url)\n",
    "tar=tarfile.open(archive_name)\n",
    "tar.extractall()\n",
    "tar.close()\n",
    "print( 'archive_name: {}'.format(archive_name) )"
   ]
  },
  {
   "cell_type": "markdown",
   "metadata": {},
   "source": [
    "See http://xahlee.info/python/gzip.html"
   ]
  },
  {
   "cell_type": "code",
   "execution_count": 6,
   "metadata": {},
   "outputs": [
    {
     "name": "stdout",
     "output_type": "stream",
     "text": [
      "file_in: vgpm.2009152.hdf.gz\n",
      "file_out: vgpm.2009152.hdf\n",
      "file_in: vgpm.2009121.hdf.gz\n",
      "file_out: vgpm.2009121.hdf\n",
      "file_in: vgpm.2009091.hdf.gz\n",
      "file_out: vgpm.2009091.hdf\n",
      "file_in: vgpm.2009001.hdf.gz\n",
      "file_out: vgpm.2009001.hdf\n",
      "file_in: vgpm.2009060.hdf.gz\n",
      "file_out: vgpm.2009060.hdf\n",
      "file_in: vgpm.2009274.hdf.gz\n",
      "file_out: vgpm.2009274.hdf\n",
      "file_in: vgpm.2009305.hdf.gz\n",
      "file_out: vgpm.2009305.hdf\n",
      "file_in: vgpm.2009032.hdf.gz\n",
      "file_out: vgpm.2009032.hdf\n",
      "file_in: vgpm.2009335.hdf.gz\n",
      "file_out: vgpm.2009335.hdf\n",
      "file_in: vgpm.2009182.hdf.gz\n",
      "file_out: vgpm.2009182.hdf\n",
      "file_in: vgpm.2009244.hdf.gz\n",
      "file_out: vgpm.2009244.hdf\n",
      "file_in: vgpm.2009213.hdf.gz\n",
      "file_out: vgpm.2009213.hdf\n"
     ]
    }
   ],
   "source": [
    "import gzip\n",
    "import os\n",
    "\n",
    "for file_in in os.listdir('.'):\n",
    "    if file_in.endswith('.gz'):\n",
    "        print( 'file_in: {}'.format(file_in) )\n",
    "        input=gzip.GzipFile(file_in, 'rb')\n",
    "        s=input.read()\n",
    "        input.close()\n",
    "        file_out,file_extension=os.path.splitext(file_in)\n",
    "        output=open(file_out, 'wb')\n",
    "        output.write(s)\n",
    "        output.close()\n",
    "        print( 'file_out: {}'.format(file_out) )\n",
    "        os.remove(file_in)"
   ]
  },
  {
   "cell_type": "markdown",
   "metadata": {},
   "source": [
    "See https://www.science-emergence.com/Articles/How-to-read-a-MODIS-HDF-file-using-python-/"
   ]
  },
  {
   "cell_type": "code",
   "execution_count": 7,
   "metadata": {},
   "outputs": [],
   "source": [
    "pattern='vgpm.'+str(year)+'???.hdf'"
   ]
  },
  {
   "cell_type": "code",
   "execution_count": 8,
   "metadata": {},
   "outputs": [
    {
     "data": {
      "text/plain": [
       "'vgpm.2009???.hdf'"
      ]
     },
     "execution_count": 8,
     "metadata": {},
     "output_type": "execute_result"
    }
   ],
   "source": [
    "pattern"
   ]
  },
  {
   "cell_type": "code",
   "execution_count": 9,
   "metadata": {},
   "outputs": [
    {
     "name": "stdout",
     "output_type": "stream",
     "text": [
      "processing vgpm.2009213.hdf\n",
      "file.info(): (1, 4)\n",
      "idx,sds: 0,npp\n",
      "npp:\n",
      "[[-9999. -9999. -9999. ... -9999. -9999. -9999.]\n",
      " [-9999. -9999. -9999. ... -9999. -9999. -9999.]\n",
      " [-9999. -9999. -9999. ... -9999. -9999. -9999.]\n",
      " ...\n",
      " [-9999. -9999. -9999. ... -9999. -9999. -9999.]\n",
      " [-9999. -9999. -9999. ... -9999. -9999. -9999.]\n",
      " [-9999. -9999. -9999. ... -9999. -9999. -9999.]]\n",
      "one_npp: 500.7715148925781 mg C m^-2 d^-1\n",
      "processing vgpm.2009001.hdf\n",
      "file.info(): (1, 4)\n",
      "idx,sds: 0,npp\n",
      "npp:\n",
      "[[-9999. -9999. -9999. ... -9999. -9999. -9999.]\n",
      " [-9999. -9999. -9999. ... -9999. -9999. -9999.]\n",
      " [-9999. -9999. -9999. ... -9999. -9999. -9999.]\n",
      " ...\n",
      " [-9999. -9999. -9999. ... -9999. -9999. -9999.]\n",
      " [-9999. -9999. -9999. ... -9999. -9999. -9999.]\n",
      " [-9999. -9999. -9999. ... -9999. -9999. -9999.]]\n",
      "one_npp: 0 mg C m^-2 d^-1\n",
      "processing vgpm.2009305.hdf\n",
      "file.info(): (1, 4)\n",
      "idx,sds: 0,npp\n",
      "npp:\n",
      "[[-9999. -9999. -9999. ... -9999. -9999. -9999.]\n",
      " [-9999. -9999. -9999. ... -9999. -9999. -9999.]\n",
      " [-9999. -9999. -9999. ... -9999. -9999. -9999.]\n",
      " ...\n",
      " [-9999. -9999. -9999. ... -9999. -9999. -9999.]\n",
      " [-9999. -9999. -9999. ... -9999. -9999. -9999.]\n",
      " [-9999. -9999. -9999. ... -9999. -9999. -9999.]]\n",
      "one_npp: 0 mg C m^-2 d^-1\n",
      "processing vgpm.2009274.hdf\n",
      "file.info(): (1, 4)\n",
      "idx,sds: 0,npp\n",
      "npp:\n",
      "[[-9999. -9999. -9999. ... -9999. -9999. -9999.]\n",
      " [-9999. -9999. -9999. ... -9999. -9999. -9999.]\n",
      " [-9999. -9999. -9999. ... -9999. -9999. -9999.]\n",
      " ...\n",
      " [-9999. -9999. -9999. ... -9999. -9999. -9999.]\n",
      " [-9999. -9999. -9999. ... -9999. -9999. -9999.]\n",
      " [-9999. -9999. -9999. ... -9999. -9999. -9999.]]\n",
      "one_npp: 0 mg C m^-2 d^-1\n",
      "processing vgpm.2009060.hdf\n",
      "file.info(): (1, 4)\n",
      "idx,sds: 0,npp\n",
      "npp:\n",
      "[[-9999. -9999. -9999. ... -9999. -9999. -9999.]\n",
      " [-9999. -9999. -9999. ... -9999. -9999. -9999.]\n",
      " [-9999. -9999. -9999. ... -9999. -9999. -9999.]\n",
      " ...\n",
      " [-9999. -9999. -9999. ... -9999. -9999. -9999.]\n",
      " [-9999. -9999. -9999. ... -9999. -9999. -9999.]\n",
      " [-9999. -9999. -9999. ... -9999. -9999. -9999.]]\n",
      "one_npp: 0 mg C m^-2 d^-1\n",
      "processing vgpm.2009091.hdf\n",
      "file.info(): (1, 4)\n",
      "idx,sds: 0,npp\n",
      "npp:\n",
      "[[-9999. -9999. -9999. ... -9999. -9999. -9999.]\n",
      " [-9999. -9999. -9999. ... -9999. -9999. -9999.]\n",
      " [-9999. -9999. -9999. ... -9999. -9999. -9999.]\n",
      " ...\n",
      " [-9999. -9999. -9999. ... -9999. -9999. -9999.]\n",
      " [-9999. -9999. -9999. ... -9999. -9999. -9999.]\n",
      " [-9999. -9999. -9999. ... -9999. -9999. -9999.]]\n",
      "one_npp: 0 mg C m^-2 d^-1\n",
      "processing vgpm.2009244.hdf\n",
      "file.info(): (1, 4)\n",
      "idx,sds: 0,npp\n",
      "npp:\n",
      "[[-9999. -9999. -9999. ... -9999. -9999. -9999.]\n",
      " [-9999. -9999. -9999. ... -9999. -9999. -9999.]\n",
      " [-9999. -9999. -9999. ... -9999. -9999. -9999.]\n",
      " ...\n",
      " [-9999. -9999. -9999. ... -9999. -9999. -9999.]\n",
      " [-9999. -9999. -9999. ... -9999. -9999. -9999.]\n",
      " [-9999. -9999. -9999. ... -9999. -9999. -9999.]]\n",
      "one_npp: 340.4976806640625 mg C m^-2 d^-1\n",
      "processing vgpm.2009335.hdf\n",
      "file.info(): (1, 4)\n",
      "idx,sds: 0,npp\n",
      "npp:\n",
      "[[-9999. -9999. -9999. ... -9999. -9999. -9999.]\n",
      " [-9999. -9999. -9999. ... -9999. -9999. -9999.]\n",
      " [-9999. -9999. -9999. ... -9999. -9999. -9999.]\n",
      " ...\n",
      " [-9999. -9999. -9999. ... -9999. -9999. -9999.]\n",
      " [-9999. -9999. -9999. ... -9999. -9999. -9999.]\n",
      " [-9999. -9999. -9999. ... -9999. -9999. -9999.]]\n",
      "one_npp: 0 mg C m^-2 d^-1\n",
      "processing vgpm.2009121.hdf\n",
      "file.info(): (1, 4)\n",
      "idx,sds: 0,npp\n",
      "npp:\n",
      "[[-9999. -9999. -9999. ... -9999. -9999. -9999.]\n",
      " [-9999. -9999. -9999. ... -9999. -9999. -9999.]\n",
      " [-9999. -9999. -9999. ... -9999. -9999. -9999.]\n",
      " ...\n",
      " [-9999. -9999. -9999. ... -9999. -9999. -9999.]\n",
      " [-9999. -9999. -9999. ... -9999. -9999. -9999.]\n",
      " [-9999. -9999. -9999. ... -9999. -9999. -9999.]]\n",
      "one_npp: 0 mg C m^-2 d^-1\n",
      "processing vgpm.2009032.hdf\n",
      "file.info(): (1, 4)\n",
      "idx,sds: 0,npp\n",
      "npp:\n",
      "[[-9999. -9999. -9999. ... -9999. -9999. -9999.]\n",
      " [-9999. -9999. -9999. ... -9999. -9999. -9999.]\n",
      " [-9999. -9999. -9999. ... -9999. -9999. -9999.]\n",
      " ...\n",
      " [-9999. -9999. -9999. ... -9999. -9999. -9999.]\n",
      " [-9999. -9999. -9999. ... -9999. -9999. -9999.]\n",
      " [-9999. -9999. -9999. ... -9999. -9999. -9999.]]\n",
      "one_npp: 0 mg C m^-2 d^-1\n",
      "processing vgpm.2009152.hdf\n",
      "file.info(): (1, 4)\n",
      "idx,sds: 0,npp\n",
      "npp:\n",
      "[[-9999. -9999. -9999. ... -9999. -9999. -9999.]\n",
      " [-9999. -9999. -9999. ... -9999. -9999. -9999.]\n",
      " [-9999. -9999. -9999. ... -9999. -9999. -9999.]\n",
      " ...\n",
      " [-9999. -9999. -9999. ... -9999. -9999. -9999.]\n",
      " [-9999. -9999. -9999. ... -9999. -9999. -9999.]\n",
      " [-9999. -9999. -9999. ... -9999. -9999. -9999.]]\n",
      "one_npp: 0 mg C m^-2 d^-1\n",
      "processing vgpm.2009182.hdf\n",
      "file.info(): (1, 4)\n",
      "idx,sds: 0,npp\n",
      "npp:\n",
      "[[-9999. -9999. -9999. ... -9999. -9999. -9999.]\n",
      " [-9999. -9999. -9999. ... -9999. -9999. -9999.]\n",
      " [-9999. -9999. -9999. ... -9999. -9999. -9999.]\n",
      " ...\n",
      " [-9999. -9999. -9999. ... -9999. -9999. -9999.]\n",
      " [-9999. -9999. -9999. ... -9999. -9999. -9999.]\n",
      " [-9999. -9999. -9999. ... -9999. -9999. -9999.]]\n",
      "one_npp: 824.5983276367188 mg C m^-2 d^-1\n"
     ]
    }
   ],
   "source": [
    "import os\n",
    "import glob\n",
    "from pyhdf.SD import SD, SDC\n",
    "\n",
    "for file_name in glob.glob(pattern):\n",
    "    print('processing {}'.format(file_name) )\n",
    "        \n",
    "    file=SD(file_name,SDC.READ)\n",
    "    print( 'file.info(): {}'.format(file.info()) )\n",
    "\n",
    "    # print SDS names\n",
    "    datasets_dic=file.datasets()\n",
    "    for idx,sds in enumerate(datasets_dic.keys()):\n",
    "        print( 'idx,sds: {0},{1}'.format(idx,sds) )\n",
    "\n",
    "    # get npp\n",
    "    sds_obj=file.select('npp') # select sds\n",
    "    npp=sds_obj.get() # get sds data\n",
    "    print( 'npp:\\n{}'.format(npp) )\n",
    "\n",
    "    one_npp=npp[fakeDim0,fakeDim1]\n",
    "    if(one_npp<0):\n",
    "        one_npp=0;\n",
    "    print( 'one_npp: {} mg C m^-2 d^-1'.format(one_npp) )\n",
    "    "
   ]
  }
 ],
 "metadata": {
  "kernelspec": {
   "display_name": "Python 3",
   "language": "python",
   "name": "python3"
  },
  "language_info": {
   "codemirror_mode": {
    "name": "ipython",
    "version": 3
   },
   "file_extension": ".py",
   "mimetype": "text/x-python",
   "name": "python",
   "nbconvert_exporter": "python",
   "pygments_lexer": "ipython3",
   "version": "3.7.3"
  }
 },
 "nbformat": 4,
 "nbformat_minor": 2
}
